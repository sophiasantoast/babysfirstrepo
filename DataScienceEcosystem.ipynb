{
 "cells": [
  {
   "cell_type": "markdown",
   "id": "8d175d08-6940-4196-a9fc-c9e7e4d4f9c9",
   "metadata": {},
   "source": [
    "# Data Science Tools and Ecosystem"
   ]
  },
  {
   "cell_type": "markdown",
   "id": "997b68fa-62ef-4d1a-ab91-d98fec005781",
   "metadata": {},
   "source": [
    "In this notebook, Data Science Tools and Ecosystem are summarized."
   ]
  },
  {
   "cell_type": "markdown",
   "id": "9064e210-9c5f-4a8a-bf9f-ef7a331f122f",
   "metadata": {},
   "source": [
    "**Objectives:**\n",
    "+ List popular languages in Data Science\n",
    "+ List commonly used libraries in Data Science\n",
    "+ Create a table in Markdown showing popular Data Science development environments\n",
    "+ Evaluate arithmetic expressions in Python"
   ]
  },
  {
   "cell_type": "markdown",
   "id": "8f9c0991-a744-4316-9f0e-abdba96d086a",
   "metadata": {},
   "source": [
    "Some of the popular languages that Data Scientists use are:\n",
    "1. Python\n",
    "2. R\n",
    "3. SQL\n",
    "4. Java\n",
    "5. Scala\n",
    "6. C++"
   ]
  },
  {
   "cell_type": "markdown",
   "id": "536ba004-bf3a-44a5-b632-2a9fb881e48d",
   "metadata": {},
   "source": [
    "Some of the commonly used libraries used by Data Scientists include:\n",
    "1. Pandas\n",
    "2. NumPy\n",
    "3. MatPlotLib\n",
    "4. Seaborn\n",
    "5. SciKit Learn"
   ]
  },
  {
   "cell_type": "markdown",
   "id": "32bfa2fd-9988-422d-960f-0b9893a6b223",
   "metadata": {},
   "source": [
    "| Data Science Tools |\n",
    "|--------------------|\n",
    "| Jupyter Notebook |\n",
    "| R Studio |\n",
    "|Apache Zeplin |"
   ]
  },
  {
   "cell_type": "markdown",
   "id": "943228da-0557-4937-9644-9bb0a8f4d451",
   "metadata": {},
   "source": [
    "### Below are a few examples of evaluating arithmetic expressions in Python"
   ]
  },
  {
   "cell_type": "code",
   "execution_count": 1,
   "id": "6fc3d872-6cc2-4737-afe6-6a6beefaf232",
   "metadata": {},
   "outputs": [
    {
     "data": {
      "text/plain": [
       "17"
      ]
     },
     "execution_count": 1,
     "metadata": {},
     "output_type": "execute_result"
    }
   ],
   "source": [
    "# This is a simple arithmetic expression to multiply 3 by 4 then add 5\n",
    "(3*4)+5"
   ]
  },
  {
   "cell_type": "code",
   "execution_count": 2,
   "id": "ddaa5de5-5b62-4e41-9231-400911d9b3fe",
   "metadata": {
    "jupyter": {
     "source_hidden": true
    }
   },
   "outputs": [
    {
     "data": {
      "text/plain": [
       "3.3333333333333335"
      ]
     },
     "execution_count": 2,
     "metadata": {},
     "output_type": "execute_result"
    }
   ],
   "source": [
    "# This cell converts 200 minutes to hours by dividing 200 by 60.\n",
    "200/60"
   ]
  },
  {
   "cell_type": "markdown",
   "id": "15ef39dc-1146-4386-86be-e0eee3e81d08",
   "metadata": {},
   "source": [
    "## Author\n",
    "Sophia Audrey Santos"
   ]
  }
 ],
 "metadata": {
  "kernelspec": {
   "display_name": "Python 3 (ipykernel)",
   "language": "python",
   "name": "python3"
  },
  "language_info": {
   "codemirror_mode": {
    "name": "ipython",
    "version": 3
   },
   "file_extension": ".py",
   "mimetype": "text/x-python",
   "name": "python",
   "nbconvert_exporter": "python",
   "pygments_lexer": "ipython3",
   "version": "3.12.8"
  }
 },
 "nbformat": 4,
 "nbformat_minor": 5
}
